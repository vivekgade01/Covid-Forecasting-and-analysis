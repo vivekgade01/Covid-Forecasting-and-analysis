{
  "nbformat": 4,
  "nbformat_minor": 0,
  "metadata": {
    "kernelspec": {
      "display_name": "Python 3",
      "language": "python",
      "name": "python3"
    },
    "language_info": {
      "codemirror_mode": {
        "name": "ipython",
        "version": 3
      },
      "file_extension": ".py",
      "mimetype": "text/x-python",
      "name": "python",
      "nbconvert_exporter": "python",
      "pygments_lexer": "ipython3",
      "version": "3.8.6"
    },
    "colab": {
      "name": "LSTM+ARIMA.ipynb",
      "provenance": [],
      "collapsed_sections": [],
      "toc_visible": true
    }
  },
  "cells": [
    {
      "cell_type": "markdown",
      "metadata": {
        "id": "uf5PC58Arl3R"
      },
      "source": [
        "# COVID 19: Forecasting using ARIMA and LSTM"
      ]
    },
    {
      "cell_type": "code",
      "metadata": {
        "id": "FUwNkHkTrl3T",
        "colab": {
          "base_uri": "https://localhost:8080/"
        },
        "outputId": "bbe3e7ce-fecc-4245-86c8-1a7e7c4071ba"
      },
      "source": [
        "import pandas as pd\n",
        "import numpy as np\n",
        "import matplotlib.pyplot as plt\n",
        "import math\n",
        "from keras.models import Sequential\n",
        "from keras.layers import Dense\n",
        "from keras.layers import LSTM\n",
        "from sklearn.preprocessing import MinMaxScaler\n",
        "from sklearn.metrics import mean_squared_error\n",
        "from statsmodels.tsa.arima_model import ARIMA\n",
        "from pandas.plotting import autocorrelation_plot"
      ],
      "execution_count": null,
      "outputs": [
        {
          "output_type": "stream",
          "text": [
            "/usr/local/lib/python3.6/dist-packages/statsmodels/tools/_testing.py:19: FutureWarning: pandas.util.testing is deprecated. Use the functions in the public API at pandas.testing instead.\n",
            "  import pandas.util.testing as tm\n"
          ],
          "name": "stderr"
        }
      ]
    },
    {
      "cell_type": "code",
      "metadata": {
        "id": "I0zTWKInrl3Z"
      },
      "source": [
        "import warnings\n",
        "\n",
        "warnings.filterwarnings(\"ignore\")"
      ],
      "execution_count": null,
      "outputs": []
    },
    {
      "cell_type": "markdown",
      "metadata": {
        "id": "MLRlISlurl3e"
      },
      "source": [
        "## Data Sources"
      ]
    },
    {
      "cell_type": "code",
      "metadata": {
        "id": "ou4SCJjwrl3f"
      },
      "source": [
        "confirmed_df = pd.read_csv(\"/content/confirmed_df.csv\", parse_dates=[\"Date\"])\n",
        "deaths_df = pd.read_csv(\"/content/deaths_df.csv\", parse_dates=[\"Date\"])\n",
        "recovered_df = pd.read_csv(\"/content/recovered_df.csv\", parse_dates=[\"Date\"])"
      ],
      "execution_count": null,
      "outputs": []
    },
    {
      "cell_type": "code",
      "metadata": {
        "id": "Dk6DYa_Krl3k"
      },
      "source": [
        "# Dropping Serial Number\n",
        "confirmed_df.drop([\"SNo\"], axis=1, inplace=True)\n",
        "deaths_df.drop([\"SNo\"], axis=1, inplace=True)\n",
        "recovered_df.drop([\"SNo\"], axis=1, inplace=True)"
      ],
      "execution_count": null,
      "outputs": []
    },
    {
      "cell_type": "code",
      "metadata": {
        "id": "5iP39f0Hrl3p",
        "colab": {
          "base_uri": "https://localhost:8080/",
          "height": 195
        },
        "outputId": "7b0f229a-7add-4bd4-9afd-80871feb4bc1"
      },
      "source": [
        "confirmed_df.head()"
      ],
      "execution_count": null,
      "outputs": [
        {
          "output_type": "execute_result",
          "data": {
            "text/html": [
              "<div>\n",
              "<style scoped>\n",
              "    .dataframe tbody tr th:only-of-type {\n",
              "        vertical-align: middle;\n",
              "    }\n",
              "\n",
              "    .dataframe tbody tr th {\n",
              "        vertical-align: top;\n",
              "    }\n",
              "\n",
              "    .dataframe thead th {\n",
              "        text-align: right;\n",
              "    }\n",
              "</style>\n",
              "<table border=\"1\" class=\"dataframe\">\n",
              "  <thead>\n",
              "    <tr style=\"text-align: right;\">\n",
              "      <th></th>\n",
              "      <th>Date</th>\n",
              "      <th>Province/State</th>\n",
              "      <th>Country</th>\n",
              "      <th>Confirmed</th>\n",
              "    </tr>\n",
              "  </thead>\n",
              "  <tbody>\n",
              "    <tr>\n",
              "      <th>0</th>\n",
              "      <td>2020-01-22</td>\n",
              "      <td>Hong Kong</td>\n",
              "      <td>Hong Kong</td>\n",
              "      <td>0.0</td>\n",
              "    </tr>\n",
              "    <tr>\n",
              "      <th>1</th>\n",
              "      <td>2020-01-22</td>\n",
              "      <td>Macau</td>\n",
              "      <td>Macau</td>\n",
              "      <td>1.0</td>\n",
              "    </tr>\n",
              "    <tr>\n",
              "      <th>2</th>\n",
              "      <td>2020-01-22</td>\n",
              "      <td>Anhui</td>\n",
              "      <td>Mainland China</td>\n",
              "      <td>1.0</td>\n",
              "    </tr>\n",
              "    <tr>\n",
              "      <th>3</th>\n",
              "      <td>2020-01-22</td>\n",
              "      <td>Beijing</td>\n",
              "      <td>Mainland China</td>\n",
              "      <td>14.0</td>\n",
              "    </tr>\n",
              "    <tr>\n",
              "      <th>4</th>\n",
              "      <td>2020-01-22</td>\n",
              "      <td>Chongqing</td>\n",
              "      <td>Mainland China</td>\n",
              "      <td>6.0</td>\n",
              "    </tr>\n",
              "  </tbody>\n",
              "</table>\n",
              "</div>"
            ],
            "text/plain": [
              "        Date Province/State         Country  Confirmed\n",
              "0 2020-01-22      Hong Kong       Hong Kong        0.0\n",
              "1 2020-01-22          Macau           Macau        1.0\n",
              "2 2020-01-22          Anhui  Mainland China        1.0\n",
              "3 2020-01-22        Beijing  Mainland China       14.0\n",
              "4 2020-01-22      Chongqing  Mainland China        6.0"
            ]
          },
          "metadata": {
            "tags": []
          },
          "execution_count": 5
        }
      ]
    },
    {
      "cell_type": "code",
      "metadata": {
        "id": "jfmeFK7Lrl3u",
        "colab": {
          "base_uri": "https://localhost:8080/",
          "height": 195
        },
        "outputId": "263753b3-143a-455e-a3a3-1a5965271db4"
      },
      "source": [
        "deaths_df.head()"
      ],
      "execution_count": null,
      "outputs": [
        {
          "output_type": "execute_result",
          "data": {
            "text/html": [
              "<div>\n",
              "<style scoped>\n",
              "    .dataframe tbody tr th:only-of-type {\n",
              "        vertical-align: middle;\n",
              "    }\n",
              "\n",
              "    .dataframe tbody tr th {\n",
              "        vertical-align: top;\n",
              "    }\n",
              "\n",
              "    .dataframe thead th {\n",
              "        text-align: right;\n",
              "    }\n",
              "</style>\n",
              "<table border=\"1\" class=\"dataframe\">\n",
              "  <thead>\n",
              "    <tr style=\"text-align: right;\">\n",
              "      <th></th>\n",
              "      <th>Date</th>\n",
              "      <th>Province/State</th>\n",
              "      <th>Country</th>\n",
              "      <th>Deaths</th>\n",
              "    </tr>\n",
              "  </thead>\n",
              "  <tbody>\n",
              "    <tr>\n",
              "      <th>0</th>\n",
              "      <td>2020-01-22</td>\n",
              "      <td>Hong Kong</td>\n",
              "      <td>Hong Kong</td>\n",
              "      <td>0.0</td>\n",
              "    </tr>\n",
              "    <tr>\n",
              "      <th>1</th>\n",
              "      <td>2020-01-22</td>\n",
              "      <td>Macau</td>\n",
              "      <td>Macau</td>\n",
              "      <td>0.0</td>\n",
              "    </tr>\n",
              "    <tr>\n",
              "      <th>2</th>\n",
              "      <td>2020-01-22</td>\n",
              "      <td>Anhui</td>\n",
              "      <td>Mainland China</td>\n",
              "      <td>0.0</td>\n",
              "    </tr>\n",
              "    <tr>\n",
              "      <th>3</th>\n",
              "      <td>2020-01-22</td>\n",
              "      <td>Beijing</td>\n",
              "      <td>Mainland China</td>\n",
              "      <td>0.0</td>\n",
              "    </tr>\n",
              "    <tr>\n",
              "      <th>4</th>\n",
              "      <td>2020-01-22</td>\n",
              "      <td>Chongqing</td>\n",
              "      <td>Mainland China</td>\n",
              "      <td>0.0</td>\n",
              "    </tr>\n",
              "  </tbody>\n",
              "</table>\n",
              "</div>"
            ],
            "text/plain": [
              "        Date Province/State         Country  Deaths\n",
              "0 2020-01-22      Hong Kong       Hong Kong     0.0\n",
              "1 2020-01-22          Macau           Macau     0.0\n",
              "2 2020-01-22          Anhui  Mainland China     0.0\n",
              "3 2020-01-22        Beijing  Mainland China     0.0\n",
              "4 2020-01-22      Chongqing  Mainland China     0.0"
            ]
          },
          "metadata": {
            "tags": []
          },
          "execution_count": 6
        }
      ]
    },
    {
      "cell_type": "code",
      "metadata": {
        "id": "iGdaeCwZrl3z",
        "colab": {
          "base_uri": "https://localhost:8080/",
          "height": 195
        },
        "outputId": "b86be01c-ee77-40eb-f4ef-b8e18a39bacc"
      },
      "source": [
        "recovered_df.head()"
      ],
      "execution_count": null,
      "outputs": [
        {
          "output_type": "execute_result",
          "data": {
            "text/html": [
              "<div>\n",
              "<style scoped>\n",
              "    .dataframe tbody tr th:only-of-type {\n",
              "        vertical-align: middle;\n",
              "    }\n",
              "\n",
              "    .dataframe tbody tr th {\n",
              "        vertical-align: top;\n",
              "    }\n",
              "\n",
              "    .dataframe thead th {\n",
              "        text-align: right;\n",
              "    }\n",
              "</style>\n",
              "<table border=\"1\" class=\"dataframe\">\n",
              "  <thead>\n",
              "    <tr style=\"text-align: right;\">\n",
              "      <th></th>\n",
              "      <th>Date</th>\n",
              "      <th>Province/State</th>\n",
              "      <th>Country</th>\n",
              "      <th>Recovered</th>\n",
              "    </tr>\n",
              "  </thead>\n",
              "  <tbody>\n",
              "    <tr>\n",
              "      <th>0</th>\n",
              "      <td>2020-01-22</td>\n",
              "      <td>Hong Kong</td>\n",
              "      <td>Hong Kong</td>\n",
              "      <td>0.0</td>\n",
              "    </tr>\n",
              "    <tr>\n",
              "      <th>1</th>\n",
              "      <td>2020-01-22</td>\n",
              "      <td>Macau</td>\n",
              "      <td>Macau</td>\n",
              "      <td>0.0</td>\n",
              "    </tr>\n",
              "    <tr>\n",
              "      <th>2</th>\n",
              "      <td>2020-01-22</td>\n",
              "      <td>Anhui</td>\n",
              "      <td>Mainland China</td>\n",
              "      <td>0.0</td>\n",
              "    </tr>\n",
              "    <tr>\n",
              "      <th>3</th>\n",
              "      <td>2020-01-22</td>\n",
              "      <td>Beijing</td>\n",
              "      <td>Mainland China</td>\n",
              "      <td>0.0</td>\n",
              "    </tr>\n",
              "    <tr>\n",
              "      <th>4</th>\n",
              "      <td>2020-01-22</td>\n",
              "      <td>Chongqing</td>\n",
              "      <td>Mainland China</td>\n",
              "      <td>0.0</td>\n",
              "    </tr>\n",
              "  </tbody>\n",
              "</table>\n",
              "</div>"
            ],
            "text/plain": [
              "        Date Province/State         Country  Recovered\n",
              "0 2020-01-22      Hong Kong       Hong Kong        0.0\n",
              "1 2020-01-22          Macau           Macau        0.0\n",
              "2 2020-01-22          Anhui  Mainland China        0.0\n",
              "3 2020-01-22        Beijing  Mainland China        0.0\n",
              "4 2020-01-22      Chongqing  Mainland China        0.0"
            ]
          },
          "metadata": {
            "tags": []
          },
          "execution_count": 7
        }
      ]
    },
    {
      "cell_type": "code",
      "metadata": {
        "id": "iOMspJsxrl34"
      },
      "source": [
        "confirmed_world_df = (\n",
        "    confirmed_df.groupby(\"Date\")[\"Confirmed\"]\n",
        "    .sum()\n",
        "    .sort_values(axis=\"index\")\n",
        "    .reset_index()\n",
        ")"
      ],
      "execution_count": null,
      "outputs": []
    },
    {
      "cell_type": "code",
      "metadata": {
        "id": "UeVMXPN2rl38"
      },
      "source": [
        "recovered_world_df = (\n",
        "    recovered_df.groupby(\"Date\")[\"Recovered\"]\n",
        "    .sum()\n",
        "    .sort_values(axis=\"index\")\n",
        "    .reset_index()\n",
        ")"
      ],
      "execution_count": null,
      "outputs": []
    },
    {
      "cell_type": "code",
      "metadata": {
        "id": "QOM2nM42rl4A"
      },
      "source": [
        "deaths_world_df = (\n",
        "    deaths_df.groupby(\"Date\")[\"Deaths\"].sum().sort_values(axis=\"index\").reset_index()\n",
        ")"
      ],
      "execution_count": null,
      "outputs": []
    },
    {
      "cell_type": "markdown",
      "metadata": {
        "id": "DuaAE2VDrl4H"
      },
      "source": [
        "## LSTM"
      ]
    },
    {
      "cell_type": "code",
      "metadata": {
        "id": "hUjzu2nGrl4I"
      },
      "source": [
        "look_back = 1\n",
        "scaler = MinMaxScaler(feature_range=(0, 1))"
      ],
      "execution_count": null,
      "outputs": []
    },
    {
      "cell_type": "code",
      "metadata": {
        "id": "dq_GGcb0rl4L"
      },
      "source": [
        "# convert an array of values into a dataset matrix\n",
        "def create_dataset(dataset, look_back=1):\n",
        "    dataX, dataY = [], []\n",
        "    for i in range(len(dataset) - look_back - 1):\n",
        "        a = dataset[i : (i + look_back), 0]\n",
        "        dataX.append(a)\n",
        "        dataY.append(dataset[i + look_back, 0])\n",
        "    return np.array(dataX), np.array(dataY)"
      ],
      "execution_count": null,
      "outputs": []
    },
    {
      "cell_type": "code",
      "metadata": {
        "id": "Mt0Pr9Ldrl4O"
      },
      "source": [
        "def normalize_split(dataset):\n",
        "    # normalize the dataset\n",
        "    dataset = scaler.fit_transform(dataset)\n",
        "\n",
        "    # split into train and test sets\n",
        "    train_size = int(len(dataset) * 0.67)\n",
        "    test_size = len(dataset) - train_size\n",
        "    train, test = dataset[0:train_size, :], dataset[train_size : len(dataset), :]\n",
        "\n",
        "    # reshape into X=t and Y=t+1\n",
        "    trainX, trainY = create_dataset(train, look_back)\n",
        "    testX, testY = create_dataset(test, look_back)\n",
        "    # reshape input to be [samples, time steps, features]\n",
        "    trainX = np.reshape(trainX, (trainX.shape[0], 1, trainX.shape[1]))\n",
        "    testX = np.reshape(testX, (testX.shape[0], 1, testX.shape[1]))\n",
        "\n",
        "    return trainX, trainY, testX, testY"
      ],
      "execution_count": null,
      "outputs": []
    },
    {
      "cell_type": "markdown",
      "metadata": {
        "id": "rBKGlP1Irl4T"
      },
      "source": [
        "### Confirmed"
      ]
    },
    {
      "cell_type": "code",
      "metadata": {
        "id": "bXHxaWO9rl4T"
      },
      "source": [
        "(\n",
        "    confirmed_train_X,\n",
        "    confirmed_train_Y,\n",
        "    confirmed_test_X,\n",
        "    confirmed_test_Y,\n",
        ") = normalize_split(confirmed_world_df[[\"Confirmed\"]])"
      ],
      "execution_count": null,
      "outputs": []
    },
    {
      "cell_type": "code",
      "metadata": {
        "scrolled": true,
        "id": "CE5wnT-qrl4W",
        "colab": {
          "base_uri": "https://localhost:8080/"
        },
        "outputId": "92325462-bf9a-491a-eb8b-61ca1d54f0c3"
      },
      "source": [
        "# create and fit the LSTM network\n",
        "model = Sequential()\n",
        "model.add(LSTM(4, input_shape=(1, look_back)))\n",
        "model.add(Dense(1))\n",
        "model.compile(loss=\"mean_squared_error\", optimizer=\"adam\")\n",
        "model.fit(confirmed_train_X, confirmed_train_Y, epochs=100, batch_size=1, verbose=1)"
      ],
      "execution_count": null,
      "outputs": [
        {
          "output_type": "stream",
          "text": [
            "Epoch 1/100\n",
            "162/162 [==============================] - 0s 2ms/step - loss: 0.0098\n",
            "Epoch 2/100\n",
            "162/162 [==============================] - 0s 2ms/step - loss: 0.0077\n",
            "Epoch 3/100\n",
            "162/162 [==============================] - 0s 3ms/step - loss: 0.0065\n",
            "Epoch 4/100\n",
            "162/162 [==============================] - 0s 2ms/step - loss: 0.0053\n",
            "Epoch 5/100\n",
            "162/162 [==============================] - 0s 2ms/step - loss: 0.0040\n",
            "Epoch 6/100\n",
            "162/162 [==============================] - 0s 2ms/step - loss: 0.0028\n",
            "Epoch 7/100\n",
            "162/162 [==============================] - 0s 2ms/step - loss: 0.0017\n",
            "Epoch 8/100\n",
            "162/162 [==============================] - 0s 1ms/step - loss: 8.3876e-04\n",
            "Epoch 9/100\n",
            "162/162 [==============================] - 0s 1ms/step - loss: 3.4618e-04\n",
            "Epoch 10/100\n",
            "162/162 [==============================] - 0s 1ms/step - loss: 1.1391e-04\n",
            "Epoch 11/100\n",
            "162/162 [==============================] - 0s 1ms/step - loss: 3.8619e-05\n",
            "Epoch 12/100\n",
            "162/162 [==============================] - 0s 1ms/step - loss: 1.5926e-05\n",
            "Epoch 13/100\n",
            "162/162 [==============================] - 0s 1ms/step - loss: 1.2774e-05\n",
            "Epoch 14/100\n",
            "162/162 [==============================] - 0s 1ms/step - loss: 1.2258e-05\n",
            "Epoch 15/100\n",
            "162/162 [==============================] - 0s 1ms/step - loss: 1.2049e-05\n",
            "Epoch 16/100\n",
            "162/162 [==============================] - 0s 1ms/step - loss: 1.1706e-05\n",
            "Epoch 17/100\n",
            "162/162 [==============================] - 0s 1ms/step - loss: 1.1818e-05\n",
            "Epoch 18/100\n",
            "162/162 [==============================] - 0s 1ms/step - loss: 1.2652e-05\n",
            "Epoch 19/100\n",
            "162/162 [==============================] - 0s 1ms/step - loss: 1.2451e-05\n",
            "Epoch 20/100\n",
            "162/162 [==============================] - 0s 1ms/step - loss: 1.1982e-05\n",
            "Epoch 21/100\n",
            "162/162 [==============================] - 0s 1ms/step - loss: 1.1895e-05\n",
            "Epoch 22/100\n",
            "162/162 [==============================] - 0s 1ms/step - loss: 1.2302e-05\n",
            "Epoch 23/100\n",
            "162/162 [==============================] - 0s 1ms/step - loss: 1.2330e-05\n",
            "Epoch 24/100\n",
            "162/162 [==============================] - 0s 1ms/step - loss: 1.2620e-05\n",
            "Epoch 25/100\n",
            "162/162 [==============================] - 0s 1ms/step - loss: 1.2177e-05\n",
            "Epoch 26/100\n",
            "162/162 [==============================] - 0s 1ms/step - loss: 1.2198e-05\n",
            "Epoch 27/100\n",
            "162/162 [==============================] - 0s 1ms/step - loss: 1.2959e-05\n",
            "Epoch 28/100\n",
            "162/162 [==============================] - 0s 1ms/step - loss: 1.2608e-05\n",
            "Epoch 29/100\n",
            "162/162 [==============================] - 0s 1ms/step - loss: 1.3707e-05\n",
            "Epoch 30/100\n",
            "162/162 [==============================] - 0s 1ms/step - loss: 1.4815e-05\n",
            "Epoch 31/100\n",
            "162/162 [==============================] - 0s 1ms/step - loss: 1.3056e-05\n",
            "Epoch 32/100\n",
            "162/162 [==============================] - 0s 1ms/step - loss: 1.2905e-05\n",
            "Epoch 33/100\n",
            "162/162 [==============================] - 0s 1ms/step - loss: 1.2544e-05\n",
            "Epoch 34/100\n",
            "162/162 [==============================] - 0s 1ms/step - loss: 1.3667e-05\n",
            "Epoch 35/100\n",
            "162/162 [==============================] - 0s 1ms/step - loss: 1.1999e-05\n",
            "Epoch 36/100\n",
            "162/162 [==============================] - 0s 1ms/step - loss: 1.1964e-05\n",
            "Epoch 37/100\n",
            "162/162 [==============================] - 0s 1ms/step - loss: 1.6201e-05\n",
            "Epoch 38/100\n",
            "162/162 [==============================] - 0s 1ms/step - loss: 1.3182e-05\n",
            "Epoch 39/100\n",
            "162/162 [==============================] - 0s 1ms/step - loss: 1.4450e-05\n",
            "Epoch 40/100\n",
            "162/162 [==============================] - 0s 1ms/step - loss: 1.2660e-05\n",
            "Epoch 41/100\n",
            "162/162 [==============================] - 0s 1ms/step - loss: 1.5506e-05\n",
            "Epoch 42/100\n",
            "162/162 [==============================] - 0s 1ms/step - loss: 1.4732e-05\n",
            "Epoch 43/100\n",
            "162/162 [==============================] - 0s 1ms/step - loss: 1.3375e-05\n",
            "Epoch 44/100\n",
            "162/162 [==============================] - 0s 1ms/step - loss: 1.3409e-05\n",
            "Epoch 45/100\n",
            "162/162 [==============================] - 0s 1ms/step - loss: 1.3033e-05\n",
            "Epoch 46/100\n",
            "162/162 [==============================] - 0s 1ms/step - loss: 1.3655e-05\n",
            "Epoch 47/100\n",
            "162/162 [==============================] - 0s 1ms/step - loss: 1.3660e-05\n",
            "Epoch 48/100\n",
            "162/162 [==============================] - 0s 1ms/step - loss: 1.2430e-05\n",
            "Epoch 49/100\n",
            "162/162 [==============================] - 0s 1ms/step - loss: 1.4023e-05\n",
            "Epoch 50/100\n",
            "162/162 [==============================] - 0s 1ms/step - loss: 1.4564e-05\n",
            "Epoch 51/100\n",
            "162/162 [==============================] - 0s 1ms/step - loss: 1.5755e-05\n",
            "Epoch 52/100\n",
            "162/162 [==============================] - 0s 1ms/step - loss: 1.3374e-05\n",
            "Epoch 53/100\n",
            "162/162 [==============================] - 0s 1ms/step - loss: 1.3819e-05\n",
            "Epoch 54/100\n",
            "162/162 [==============================] - 0s 1ms/step - loss: 1.2681e-05\n",
            "Epoch 55/100\n",
            "162/162 [==============================] - 0s 1ms/step - loss: 1.4022e-05\n",
            "Epoch 56/100\n",
            "162/162 [==============================] - 0s 1ms/step - loss: 1.1826e-05\n",
            "Epoch 57/100\n",
            "162/162 [==============================] - 0s 1ms/step - loss: 1.3075e-05\n",
            "Epoch 58/100\n",
            "162/162 [==============================] - 0s 1ms/step - loss: 1.3658e-05\n",
            "Epoch 59/100\n",
            "162/162 [==============================] - 0s 1ms/step - loss: 1.4539e-05\n",
            "Epoch 60/100\n",
            "162/162 [==============================] - 0s 1ms/step - loss: 1.4418e-05\n",
            "Epoch 61/100\n",
            "162/162 [==============================] - 0s 1ms/step - loss: 1.3615e-05\n",
            "Epoch 62/100\n",
            "162/162 [==============================] - 0s 1ms/step - loss: 1.4160e-05\n",
            "Epoch 63/100\n",
            "162/162 [==============================] - 0s 1ms/step - loss: 1.2188e-05\n",
            "Epoch 64/100\n",
            "162/162 [==============================] - 0s 1ms/step - loss: 1.5449e-05\n",
            "Epoch 65/100\n",
            "162/162 [==============================] - 0s 1ms/step - loss: 1.9559e-05\n",
            "Epoch 66/100\n",
            "162/162 [==============================] - 0s 1ms/step - loss: 1.1888e-05\n",
            "Epoch 67/100\n",
            "162/162 [==============================] - 0s 1ms/step - loss: 1.2945e-05\n",
            "Epoch 68/100\n",
            "162/162 [==============================] - 0s 1ms/step - loss: 1.3424e-05\n",
            "Epoch 69/100\n",
            "162/162 [==============================] - 0s 1ms/step - loss: 1.4580e-05\n",
            "Epoch 70/100\n",
            "162/162 [==============================] - 0s 1ms/step - loss: 1.4199e-05\n",
            "Epoch 71/100\n",
            "162/162 [==============================] - 0s 1ms/step - loss: 1.3467e-05\n",
            "Epoch 72/100\n",
            "162/162 [==============================] - 0s 1ms/step - loss: 1.4010e-05\n",
            "Epoch 73/100\n",
            "162/162 [==============================] - 0s 1ms/step - loss: 1.6736e-05\n",
            "Epoch 74/100\n",
            "162/162 [==============================] - 0s 1ms/step - loss: 1.4153e-05\n",
            "Epoch 75/100\n",
            "162/162 [==============================] - 0s 1ms/step - loss: 1.5913e-05\n",
            "Epoch 76/100\n",
            "162/162 [==============================] - 0s 1ms/step - loss: 1.4469e-05\n",
            "Epoch 77/100\n",
            "162/162 [==============================] - 0s 1ms/step - loss: 1.4444e-05\n",
            "Epoch 78/100\n",
            "162/162 [==============================] - 0s 1ms/step - loss: 1.3986e-05\n",
            "Epoch 79/100\n",
            "162/162 [==============================] - 0s 1ms/step - loss: 1.3107e-05\n",
            "Epoch 80/100\n",
            "162/162 [==============================] - 0s 1ms/step - loss: 1.4551e-05\n",
            "Epoch 81/100\n",
            "162/162 [==============================] - 0s 1ms/step - loss: 1.3393e-05\n",
            "Epoch 82/100\n",
            "162/162 [==============================] - 0s 1ms/step - loss: 1.2588e-05\n",
            "Epoch 83/100\n",
            "162/162 [==============================] - 0s 1ms/step - loss: 1.4714e-05\n",
            "Epoch 84/100\n",
            "162/162 [==============================] - 0s 1ms/step - loss: 1.2958e-05\n",
            "Epoch 85/100\n",
            "162/162 [==============================] - 0s 1ms/step - loss: 1.3201e-05\n",
            "Epoch 86/100\n",
            "162/162 [==============================] - 0s 1ms/step - loss: 1.4994e-05\n",
            "Epoch 87/100\n",
            "162/162 [==============================] - 0s 1ms/step - loss: 1.2895e-05\n",
            "Epoch 88/100\n",
            "162/162 [==============================] - 0s 1ms/step - loss: 1.7951e-05\n",
            "Epoch 89/100\n",
            "162/162 [==============================] - 0s 1ms/step - loss: 1.4962e-05\n",
            "Epoch 90/100\n",
            "162/162 [==============================] - 0s 1ms/step - loss: 1.6610e-05\n",
            "Epoch 91/100\n",
            "162/162 [==============================] - 0s 1ms/step - loss: 1.5980e-05\n",
            "Epoch 92/100\n",
            "162/162 [==============================] - 0s 1ms/step - loss: 1.4449e-05\n",
            "Epoch 93/100\n",
            "162/162 [==============================] - 0s 1ms/step - loss: 1.4691e-05\n",
            "Epoch 94/100\n",
            "162/162 [==============================] - 0s 1ms/step - loss: 1.7285e-05\n",
            "Epoch 95/100\n",
            "162/162 [==============================] - 0s 1ms/step - loss: 1.3166e-05\n",
            "Epoch 96/100\n",
            "162/162 [==============================] - 0s 1ms/step - loss: 1.5096e-05\n",
            "Epoch 97/100\n",
            "162/162 [==============================] - 0s 1ms/step - loss: 1.1901e-05\n",
            "Epoch 98/100\n",
            "162/162 [==============================] - 0s 1ms/step - loss: 1.3416e-05\n",
            "Epoch 99/100\n",
            "162/162 [==============================] - 0s 1ms/step - loss: 1.2625e-05\n",
            "Epoch 100/100\n",
            "162/162 [==============================] - 0s 1ms/step - loss: 1.3647e-05\n"
          ],
          "name": "stdout"
        },
        {
          "output_type": "execute_result",
          "data": {
            "text/plain": [
              "<tensorflow.python.keras.callbacks.History at 0x7fbe4cb14f98>"
            ]
          },
          "metadata": {
            "tags": []
          },
          "execution_count": 15
        }
      ]
    },
    {
      "cell_type": "code",
      "metadata": {
        "id": "1vQJf_hgrl4a",
        "colab": {
          "base_uri": "https://localhost:8080/"
        },
        "outputId": "4d59530e-71db-4a80-e29d-39dac3ee4fce"
      },
      "source": [
        "# make predictions\n",
        "confirmed_train_predict = model.predict(confirmed_train_X)\n",
        "confirmed_test_predict = model.predict(confirmed_test_X)\n",
        "\n",
        "# invert predictions\n",
        "confirmed_train_predict = scaler.inverse_transform(confirmed_train_predict)\n",
        "confirmed_train_Y = scaler.inverse_transform([confirmed_train_Y])\n",
        "confirmed_test_predict = scaler.inverse_transform(confirmed_test_predict)\n",
        "confirmed_test_Y = scaler.inverse_transform([confirmed_test_Y])\n",
        "\n",
        "# calculate root mean squared error\n",
        "trainScore = math.sqrt(\n",
        "    mean_squared_error(confirmed_train_Y[0], confirmed_train_predict[:, 0])\n",
        ")\n",
        "print(\"Train Score: %.2f RMSE\" % (trainScore))\n",
        "testScore = math.sqrt(\n",
        "    mean_squared_error(confirmed_test_Y[0], confirmed_test_predict[:, 0])\n",
        ")\n",
        "print(\"Test Score: %.2f RMSE\" % (testScore))"
      ],
      "execution_count": null,
      "outputs": [
        {
          "output_type": "stream",
          "text": [
            "Train Score: 76353.71 RMSE\n",
            "Test Score: 2084504.32 RMSE\n"
          ],
          "name": "stdout"
        }
      ]
    },
    {
      "cell_type": "code",
      "metadata": {
        "id": "_ajJSm0Arl4d",
        "colab": {
          "base_uri": "https://localhost:8080/",
          "height": 276
        },
        "outputId": "11adaaba-e715-4c2f-b9fb-5036b4b7be5b"
      },
      "source": [
        "# shift train predictions for plotting\n",
        "trainPredictPlot = np.empty_like(confirmed_world_df[[\"Confirmed\"]])\n",
        "trainPredictPlot[:, :] = np.nan\n",
        "trainPredictPlot[\n",
        "    look_back : len(confirmed_train_predict) + look_back, :\n",
        "] = confirmed_train_predict\n",
        "\n",
        "# shift test predictions for plotting\n",
        "testPredictPlot = np.empty_like(confirmed_world_df[[\"Confirmed\"]])\n",
        "testPredictPlot[:, :] = np.nan\n",
        "testPredictPlot[\n",
        "    len(confirmed_train_predict)\n",
        "    + (look_back * 2)\n",
        "    + 1 : len(confirmed_world_df[[\"Confirmed\"]])\n",
        "    - 1,\n",
        "    :,\n",
        "] = confirmed_test_predict\n",
        "\n",
        "# plot baseline and predictions\n",
        "plt.plot(scaler.inverse_transform(confirmed_world_df[[\"Confirmed\"]]))\n",
        "plt.plot(trainPredictPlot)\n",
        "plt.plot(testPredictPlot)\n",
        "plt.show()"
      ],
      "execution_count": null,
      "outputs": [
        {
          "output_type": "display_data",
          "data": {
            "image/png": "[encoded data removed]",
            "text/plain": [
              "<Figure size 432x288 with 1 Axes>"
            ]
          },
          "metadata": {
            "tags": [],
            "needs_background": "light"
          }
        }
      ]
    },
    {
      "cell_type": "markdown",
      "metadata": {
        "id": "HtyGUUoNrl4g"
      },
      "source": [
        "### Recovered (world)"
      ]
    },
    {
      "cell_type": "code",
      "metadata": {
        "id": "2kFdWPfzrl4h"
      },
      "source": [
        "(\n",
        "    recovered_train_X,\n",
        "    recovered_train_Y,\n",
        "    recovered_test_X,\n",
        "    recovered_test_Y,\n",
        ") = normalize_split(recovered_world_df[[\"Recovered\"]])"
      ],
      "execution_count": null,
      "outputs": []
    },
    {
      "cell_type": "code",
      "metadata": {
        "id": "dg7NuFU2rl4k",
        "colab": {
          "base_uri": "https://localhost:8080/"
        },
        "outputId": "4cb44783-d1f8-47b7-e802-0cfa59defb50"
      },
      "source": [
        "# create and fit the LSTM network\n",
        "model = Sequential()\n",
        "model.add(LSTM(4, input_shape=(1, look_back)))\n",
        "model.add(Dense(1))\n",
        "model.compile(loss=\"mean_squared_error\", optimizer=\"adam\")\n",
        "model.fit(recovered_train_X, recovered_train_Y, epochs=100, batch_size=1, verbose=1)"
      ],
      "execution_count": null,
      "outputs": [
        {
          "output_type": "stream",
          "text": [
            "Epoch 1/100\n",
            "162/162 [==============================] - 0s 1ms/step - loss: 0.0040\n",
            "Epoch 2/100\n",
            "162/162 [==============================] - 0s 1ms/step - loss: 0.0032\n",
            "Epoch 3/100\n",
            "162/162 [==============================] - 0s 1ms/step - loss: 0.0026\n",
            "Epoch 4/100\n",
            "162/162 [==============================] - 0s 1ms/step - loss: 0.0021\n",
            "Epoch 5/100\n",
            "162/162 [==============================] - 0s 1ms/step - loss: 0.0015\n",
            "Epoch 6/100\n",
            "162/162 [==============================] - 0s 1ms/step - loss: 9.6613e-04\n",
            "Epoch 7/100\n",
            "162/162 [==============================] - 0s 1ms/step - loss: 5.0661e-04\n",
            "Epoch 8/100\n",
            "162/162 [==============================] - 0s 1ms/step - loss: 2.2494e-04\n",
            "Epoch 9/100\n",
            "162/162 [==============================] - 0s 1ms/step - loss: 8.2003e-05\n",
            "Epoch 10/100\n",
            "162/162 [==============================] - 0s 1ms/step - loss: 2.9053e-05\n",
            "Epoch 11/100\n",
            "162/162 [==============================] - 0s 1ms/step - loss: 1.3289e-05\n",
            "Epoch 12/100\n",
            "162/162 [==============================] - 0s 1ms/step - loss: 1.0956e-05\n",
            "Epoch 13/100\n",
            "162/162 [==============================] - 0s 1ms/step - loss: 1.0937e-05\n",
            "Epoch 14/100\n",
            "162/162 [==============================] - 0s 1ms/step - loss: 1.0501e-05\n",
            "Epoch 15/100\n",
            "162/162 [==============================] - 0s 1ms/step - loss: 1.0324e-05\n",
            "Epoch 16/100\n",
            "162/162 [==============================] - 0s 1ms/step - loss: 1.0653e-05\n",
            "Epoch 17/100\n",
            "162/162 [==============================] - 0s 1ms/step - loss: 1.0567e-05\n",
            "Epoch 18/100\n",
            "162/162 [==============================] - 0s 1ms/step - loss: 1.0511e-05\n",
            "Epoch 19/100\n",
            "162/162 [==============================] - 0s 1ms/step - loss: 1.0857e-05\n",
            "Epoch 20/100\n",
            "162/162 [==============================] - 0s 1ms/step - loss: 1.0720e-05\n",
            "Epoch 21/100\n",
            "162/162 [==============================] - 0s 1ms/step - loss: 1.0081e-05\n",
            "Epoch 22/100\n",
            "162/162 [==============================] - 0s 1ms/step - loss: 1.0892e-05\n",
            "Epoch 23/100\n",
            "162/162 [==============================] - 0s 1ms/step - loss: 1.1419e-05\n",
            "Epoch 24/100\n",
            "162/162 [==============================] - 0s 1ms/step - loss: 1.0523e-05\n",
            "Epoch 25/100\n",
            "162/162 [==============================] - 0s 1ms/step - loss: 1.1248e-05\n",
            "Epoch 26/100\n",
            "162/162 [==============================] - 0s 1ms/step - loss: 1.2072e-05\n",
            "Epoch 27/100\n",
            "162/162 [==============================] - 0s 1ms/step - loss: 1.0889e-05\n",
            "Epoch 28/100\n",
            "162/162 [==============================] - 0s 1ms/step - loss: 1.2679e-05\n",
            "Epoch 29/100\n",
            "162/162 [==============================] - 0s 1ms/step - loss: 1.1067e-05\n",
            "Epoch 30/100\n",
            "162/162 [==============================] - 0s 1ms/step - loss: 1.1692e-05\n",
            "Epoch 31/100\n",
            "162/162 [==============================] - 0s 1ms/step - loss: 1.0642e-05\n",
            "Epoch 32/100\n",
            "162/162 [==============================] - 0s 1ms/step - loss: 1.2464e-05\n",
            "Epoch 33/100\n",
            "162/162 [==============================] - 0s 1ms/step - loss: 1.1233e-05\n",
            "Epoch 34/100\n",
            "162/162 [==============================] - 0s 1ms/step - loss: 1.3718e-05\n",
            "Epoch 35/100\n",
            "162/162 [==============================] - 0s 1ms/step - loss: 1.1611e-05\n",
            "Epoch 36/100\n",
            "162/162 [==============================] - 0s 1ms/step - loss: 1.1581e-05\n",
            "Epoch 37/100\n",
            "162/162 [==============================] - 0s 1ms/step - loss: 1.1618e-05\n",
            "Epoch 38/100\n",
            "162/162 [==============================] - 0s 1ms/step - loss: 1.1348e-05\n",
            "Epoch 39/100\n",
            "162/162 [==============================] - 0s 1ms/step - loss: 1.1107e-05\n",
            "Epoch 40/100\n",
            "162/162 [==============================] - 0s 1ms/step - loss: 1.3478e-05\n",
            "Epoch 41/100\n",
            "162/162 [==============================] - 0s 1ms/step - loss: 1.0741e-05\n",
            "Epoch 42/100\n",
            "162/162 [==============================] - 0s 1ms/step - loss: 1.2802e-05\n",
            "Epoch 43/100\n",
            "162/162 [==============================] - 0s 1ms/step - loss: 9.4114e-06\n",
            "Epoch 44/100\n",
            "162/162 [==============================] - 0s 1ms/step - loss: 9.6829e-06\n",
            "Epoch 45/100\n",
            "162/162 [==============================] - 0s 1ms/step - loss: 9.7658e-06\n",
            "Epoch 46/100\n",
            "162/162 [==============================] - 0s 1ms/step - loss: 1.2084e-05\n",
            "Epoch 47/100\n",
            "162/162 [==============================] - 0s 1ms/step - loss: 1.0464e-05\n",
            "Epoch 48/100\n",
            "162/162 [==============================] - 0s 1ms/step - loss: 1.2603e-05\n",
            "Epoch 49/100\n",
            "162/162 [==============================] - 0s 1ms/step - loss: 1.1154e-05\n",
            "Epoch 50/100\n",
            "162/162 [==============================] - 0s 1ms/step - loss: 1.0821e-05\n",
            "Epoch 51/100\n",
            "162/162 [==============================] - 0s 1ms/step - loss: 1.0547e-05\n",
            "Epoch 52/100\n",
            "162/162 [==============================] - 0s 1ms/step - loss: 1.0988e-05\n",
            "Epoch 53/100\n",
            "162/162 [==============================] - 0s 1ms/step - loss: 1.0050e-05\n",
            "Epoch 54/100\n",
            "162/162 [==============================] - 0s 1ms/step - loss: 1.3017e-05\n",
            "Epoch 55/100\n",
            "162/162 [==============================] - 0s 1ms/step - loss: 1.1256e-05\n",
            "Epoch 56/100\n",
            "162/162 [==============================] - 0s 1ms/step - loss: 1.1467e-05\n",
            "Epoch 57/100\n",
            "162/162 [==============================] - 0s 1ms/step - loss: 1.0287e-05\n",
            "Epoch 58/100\n",
            "162/162 [==============================] - 0s 1ms/step - loss: 9.8269e-06\n",
            "Epoch 59/100\n",
            "162/162 [==============================] - 0s 1ms/step - loss: 1.0451e-05\n",
            "Epoch 60/100\n",
            "162/162 [==============================] - 0s 1ms/step - loss: 9.0523e-06\n",
            "Epoch 61/100\n",
            "162/162 [==============================] - 0s 1ms/step - loss: 9.4121e-06\n",
            "Epoch 62/100\n",
            "162/162 [==============================] - 0s 1ms/step - loss: 1.1107e-05\n",
            "Epoch 63/100\n",
            "162/162 [==============================] - 0s 1ms/step - loss: 1.0429e-05\n",
            "Epoch 64/100\n",
            "162/162 [==============================] - 0s 1ms/step - loss: 1.2075e-05\n",
            "Epoch 65/100\n",
            "162/162 [==============================] - 0s 1ms/step - loss: 9.0212e-06\n",
            "Epoch 66/100\n",
            "162/162 [==============================] - 0s 1ms/step - loss: 1.1138e-05\n",
            "Epoch 67/100\n",
            "162/162 [==============================] - 0s 1ms/step - loss: 9.0249e-06\n",
            "Epoch 68/100\n",
            "162/162 [==============================] - 0s 1ms/step - loss: 9.2628e-06\n",
            "Epoch 69/100\n",
            "162/162 [==============================] - 0s 1ms/step - loss: 8.8330e-06\n",
            "Epoch 70/100\n",
            "162/162 [==============================] - 0s 1ms/step - loss: 9.3144e-06\n",
            "Epoch 71/100\n",
            "162/162 [==============================] - 0s 1ms/step - loss: 9.3727e-06\n",
            "Epoch 72/100\n",
            "162/162 [==============================] - 0s 1ms/step - loss: 9.9074e-06\n",
            "Epoch 73/100\n",
            "162/162 [==============================] - 0s 1ms/step - loss: 1.0010e-05\n",
            "Epoch 74/100\n",
            "162/162 [==============================] - 0s 1ms/step - loss: 1.0282e-05\n",
            "Epoch 75/100\n",
            "162/162 [==============================] - 0s 1ms/step - loss: 1.0041e-05\n",
            "Epoch 76/100\n",
            "162/162 [==============================] - 0s 1ms/step - loss: 1.0444e-05\n",
            "Epoch 77/100\n",
            "162/162 [==============================] - 0s 1ms/step - loss: 1.1011e-05\n",
            "Epoch 78/100\n",
            "162/162 [==============================] - 0s 1ms/step - loss: 1.0608e-05\n",
            "Epoch 79/100\n",
            "162/162 [==============================] - 0s 1ms/step - loss: 9.3797e-06\n",
            "Epoch 80/100\n",
            "162/162 [==============================] - 0s 1ms/step - loss: 9.4385e-06\n",
            "Epoch 81/100\n",
            "162/162 [==============================] - 0s 1ms/step - loss: 1.0019e-05\n",
            "Epoch 82/100\n",
            "162/162 [==============================] - 0s 1ms/step - loss: 8.2640e-06\n",
            "Epoch 83/100\n",
            "162/162 [==============================] - 0s 1ms/step - loss: 1.0595e-05\n",
            "Epoch 84/100\n",
            "162/162 [==============================] - 0s 1ms/step - loss: 1.0351e-05\n",
            "Epoch 85/100\n",
            "162/162 [==============================] - 0s 1ms/step - loss: 1.0280e-05\n",
            "Epoch 86/100\n",
            "162/162 [==============================] - 0s 1ms/step - loss: 1.0905e-05\n",
            "Epoch 87/100\n",
            "162/162 [==============================] - 0s 1ms/step - loss: 1.0953e-05\n",
            "Epoch 88/100\n",
            "162/162 [==============================] - 0s 1ms/step - loss: 1.2249e-05\n",
            "Epoch 89/100\n",
            "162/162 [==============================] - 0s 1ms/step - loss: 1.0123e-05\n",
            "Epoch 90/100\n",
            "162/162 [==============================] - 0s 1ms/step - loss: 8.2886e-06\n",
            "Epoch 91/100\n",
            "162/162 [==============================] - 0s 1ms/step - loss: 1.1120e-05\n",
            "Epoch 92/100\n",
            "162/162 [==============================] - 0s 1ms/step - loss: 1.0152e-05\n",
            "Epoch 93/100\n",
            "162/162 [==============================] - 0s 1ms/step - loss: 8.9148e-06\n",
            "Epoch 94/100\n",
            "162/162 [==============================] - 0s 1ms/step - loss: 1.1205e-05\n",
            "Epoch 95/100\n",
            "162/162 [==============================] - 0s 1ms/step - loss: 9.5420e-06\n",
            "Epoch 96/100\n",
            "162/162 [==============================] - 0s 1ms/step - loss: 1.1153e-05\n",
            "Epoch 97/100\n",
            "162/162 [==============================] - 0s 1ms/step - loss: 1.0713e-05\n",
            "Epoch 98/100\n",
            "162/162 [==============================] - 0s 1ms/step - loss: 9.5936e-06\n",
            "Epoch 99/100\n",
            "162/162 [==============================] - 0s 1ms/step - loss: 1.0134e-05\n",
            "Epoch 100/100\n",
            "162/162 [==============================] - 0s 1ms/step - loss: 9.3262e-06\n"
          ],
          "name": "stdout"
        },
        {
          "output_type": "execute_result",
          "data": {
            "text/plain": [
              "<tensorflow.python.keras.callbacks.History at 0x7fbe49360be0>"
            ]
          },
          "metadata": {
            "tags": []
          },
          "execution_count": 19
        }
      ]
    },
    {
      "cell_type": "code",
      "metadata": {
        "id": "APlNBTOArl4n",
        "colab": {
          "base_uri": "https://localhost:8080/"
        },
        "outputId": "93cb1d0a-f376-4da5-ffc2-53a58c1cd312"
      },
      "source": [
        "# make predictions\n",
        "recovered_train_predict = model.predict(recovered_train_X)\n",
        "recovered_test_predict = model.predict(recovered_test_X)\n",
        "\n",
        "# invert predictions\n",
        "recovered_train_predict = scaler.inverse_transform(recovered_train_predict)\n",
        "recovered_train_Y = scaler.inverse_transform([recovered_train_Y])\n",
        "recovered_test_predict = scaler.inverse_transform(recovered_test_predict)\n",
        "recovered_test_Y = scaler.inverse_transform([recovered_test_Y])\n",
        "\n",
        "# calculate root mean squared error\n",
        "trainScore = math.sqrt(\n",
        "    mean_squared_error(recovered_train_Y[0], recovered_train_predict[:, 0])\n",
        ")\n",
        "print(\"Train Score: %.2f RMSE\" % (trainScore))\n",
        "testScore = math.sqrt(\n",
        "    mean_squared_error(recovered_test_Y[0], recovered_test_predict[:, 0])\n",
        ")\n",
        "print(\"Test Score: %.2f RMSE\" % (testScore))"
      ],
      "execution_count": null,
      "outputs": [
        {
          "output_type": "stream",
          "text": [
            "Train Score: 41635.19 RMSE\n",
            "Test Score: 1099354.44 RMSE\n"
          ],
          "name": "stdout"
        }
      ]
    },
    {
      "cell_type": "code",
      "metadata": {
        "id": "FBdzleCnrl4r",
        "colab": {
          "base_uri": "https://localhost:8080/",
          "height": 276
        },
        "outputId": "a884c442-c803-4a67-f3fa-ea7cb6f54a4d"
      },
      "source": [
        "# shift train predictions for plotting\n",
        "trainPredictPlot = np.empty_like(recovered_world_df[[\"Recovered\"]])\n",
        "trainPredictPlot[:, :] = np.nan\n",
        "trainPredictPlot[\n",
        "    look_back : len(recovered_train_predict) + look_back, :\n",
        "] = recovered_train_predict\n",
        "\n",
        "# shift test predictions for plotting\n",
        "testPredictPlot = np.empty_like(recovered_world_df[[\"Recovered\"]])\n",
        "testPredictPlot[:, :] = np.nan\n",
        "testPredictPlot[\n",
        "    len(recovered_train_predict)\n",
        "    + (look_back * 2)\n",
        "    + 1 : len(recovered_world_df[[\"Recovered\"]])\n",
        "    - 1,\n",
        "    :,\n",
        "] = recovered_test_predict\n",
        "\n",
        "# plot baseline and predictions\n",
        "plt.plot(scaler.inverse_transform(recovered_world_df[[\"Recovered\"]]))\n",
        "plt.plot(trainPredictPlot)\n",
        "plt.plot(testPredictPlot)\n",
        "plt.show()"
      ],
      "execution_count": null,
      "outputs": [
        {
          "output_type": "display_data",
          "data": {
            "image/png": "[encoded data removed]",
            "text/plain": [
              "<Figure size 432x288 with 1 Axes>"
            ]
          },
          "metadata": {
            "tags": [],
            "needs_background": "light"
          }
        }
      ]
    },
    {
      "cell_type": "markdown",
      "metadata": {
        "id": "mzhlfO4brl4u"
      },
      "source": [
        "### Deaths (world)"
      ]
    },
    {
      "cell_type": "code",
      "metadata": {
        "id": "xHAcT9iRrl4v"
      },
      "source": [
        "(\n",
        "    deaths_train_X,\n",
        "    deaths_train_Y,\n",
        "    deaths_test_X,\n",
        "    deaths_test_Y,\n",
        ") = normalize_split(deaths_world_df[[\"Deaths\"]])"
      ],
      "execution_count": null,
      "outputs": []
    },
    {
      "cell_type": "code",
      "metadata": {
        "id": "I32qqEMBrl4y",
        "colab": {
          "base_uri": "https://localhost:8080/"
        },
        "outputId": "91d2801f-e860-4079-ddb5-08b65e1a8acc"
      },
      "source": [
        "# create and fit the LSTM network\n",
        "model = Sequential()\n",
        "model.add(LSTM(4, input_shape=(1, look_back)))\n",
        "model.add(Dense(1))\n",
        "model.compile(loss=\"mean_squared_error\", optimizer=\"adam\")\n",
        "model.fit(deaths_train_X, deaths_train_Y, epochs=100, batch_size=1, verbose=1)"
      ],
      "execution_count": null,
      "outputs": [
        {
          "output_type": "stream",
          "text": [
            "Epoch 1/100\n",
            "162/162 [==============================] - 0s 1ms/step - loss: 0.0352\n",
            "Epoch 2/100\n",
            "162/162 [==============================] - 0s 1ms/step - loss: 0.0262\n",
            "Epoch 3/100\n",
            "162/162 [==============================] - 0s 1ms/step - loss: 0.0227\n",
            "Epoch 4/100\n",
            "162/162 [==============================] - 0s 1ms/step - loss: 0.0193\n",
            "Epoch 5/100\n",
            "162/162 [==============================] - 0s 1ms/step - loss: 0.0148\n",
            "Epoch 6/100\n",
            "162/162 [==============================] - 0s 1ms/step - loss: 0.0095\n",
            "Epoch 7/100\n",
            "162/162 [==============================] - 0s 1ms/step - loss: 0.0044\n",
            "Epoch 8/100\n",
            "162/162 [==============================] - 0s 1ms/step - loss: 0.0013\n",
            "Epoch 9/100\n",
            "162/162 [==============================] - 0s 1ms/step - loss: 2.7077e-04\n",
            "Epoch 10/100\n",
            "162/162 [==============================] - 0s 1ms/step - loss: 1.1002e-04\n",
            "Epoch 11/100\n",
            "162/162 [==============================] - 0s 1ms/step - loss: 9.7535e-05\n",
            "Epoch 12/100\n",
            "162/162 [==============================] - 0s 1ms/step - loss: 9.6761e-05\n",
            "Epoch 13/100\n",
            "162/162 [==============================] - 0s 1ms/step - loss: 9.8011e-05\n",
            "Epoch 14/100\n",
            "162/162 [==============================] - 0s 1ms/step - loss: 9.5917e-05\n",
            "Epoch 15/100\n",
            "162/162 [==============================] - 0s 1ms/step - loss: 9.6220e-05\n",
            "Epoch 16/100\n",
            "162/162 [==============================] - 0s 1ms/step - loss: 9.3694e-05\n",
            "Epoch 17/100\n",
            "162/162 [==============================] - 0s 1ms/step - loss: 9.6363e-05\n",
            "Epoch 18/100\n",
            "162/162 [==============================] - 0s 1ms/step - loss: 9.4064e-05\n",
            "Epoch 19/100\n",
            "162/162 [==============================] - 0s 1ms/step - loss: 9.3654e-05\n",
            "Epoch 20/100\n",
            "162/162 [==============================] - 0s 1ms/step - loss: 9.3468e-05\n",
            "Epoch 21/100\n",
            "162/162 [==============================] - 0s 1ms/step - loss: 9.1442e-05\n",
            "Epoch 22/100\n",
            "162/162 [==============================] - 0s 1ms/step - loss: 9.1928e-05\n",
            "Epoch 23/100\n",
            "162/162 [==============================] - 0s 1ms/step - loss: 9.0196e-05\n",
            "Epoch 24/100\n",
            "162/162 [==============================] - 0s 1ms/step - loss: 8.7014e-05\n",
            "Epoch 25/100\n",
            "162/162 [==============================] - 0s 1ms/step - loss: 9.2173e-05\n",
            "Epoch 26/100\n",
            "162/162 [==============================] - 0s 1ms/step - loss: 9.0345e-05\n",
            "Epoch 27/100\n",
            "162/162 [==============================] - 0s 1ms/step - loss: 9.2111e-05\n",
            "Epoch 28/100\n",
            "162/162 [==============================] - 0s 1ms/step - loss: 9.0961e-05\n",
            "Epoch 29/100\n",
            "162/162 [==============================] - 0s 1ms/step - loss: 8.8798e-05\n",
            "Epoch 30/100\n",
            "162/162 [==============================] - 0s 1ms/step - loss: 8.8282e-05\n",
            "Epoch 31/100\n",
            "162/162 [==============================] - 0s 1ms/step - loss: 8.9156e-05\n",
            "Epoch 32/100\n",
            "162/162 [==============================] - 0s 1ms/step - loss: 8.5027e-05\n",
            "Epoch 33/100\n",
            "162/162 [==============================] - 0s 1ms/step - loss: 9.3173e-05\n",
            "Epoch 34/100\n",
            "162/162 [==============================] - 0s 1ms/step - loss: 8.3269e-05\n",
            "Epoch 35/100\n",
            "162/162 [==============================] - 0s 1ms/step - loss: 9.0482e-05\n",
            "Epoch 36/100\n",
            "162/162 [==============================] - 0s 1ms/step - loss: 8.8139e-05\n",
            "Epoch 37/100\n",
            "162/162 [==============================] - 0s 1ms/step - loss: 8.8193e-05\n",
            "Epoch 38/100\n",
            "162/162 [==============================] - 0s 1ms/step - loss: 8.9147e-05\n",
            "Epoch 39/100\n",
            "162/162 [==============================] - 0s 1ms/step - loss: 8.7540e-05\n",
            "Epoch 40/100\n",
            "162/162 [==============================] - 0s 1ms/step - loss: 8.9815e-05\n",
            "Epoch 41/100\n",
            "162/162 [==============================] - 0s 1ms/step - loss: 9.4027e-05\n",
            "Epoch 42/100\n",
            "162/162 [==============================] - 0s 1ms/step - loss: 8.7830e-05\n",
            "Epoch 43/100\n",
            "162/162 [==============================] - 0s 1ms/step - loss: 8.6566e-05\n",
            "Epoch 44/100\n",
            "162/162 [==============================] - 0s 1ms/step - loss: 8.3667e-05\n",
            "Epoch 45/100\n",
            "162/162 [==============================] - 0s 1ms/step - loss: 8.4514e-05\n",
            "Epoch 46/100\n",
            "162/162 [==============================] - 0s 1ms/step - loss: 8.3931e-05\n",
            "Epoch 47/100\n",
            "162/162 [==============================] - 0s 1ms/step - loss: 8.8330e-05\n",
            "Epoch 48/100\n",
            "162/162 [==============================] - 0s 1ms/step - loss: 8.7772e-05\n",
            "Epoch 49/100\n",
            "162/162 [==============================] - 0s 1ms/step - loss: 8.7645e-05\n",
            "Epoch 50/100\n",
            "162/162 [==============================] - 0s 1ms/step - loss: 9.1451e-05\n",
            "Epoch 51/100\n",
            "162/162 [==============================] - 0s 1ms/step - loss: 8.7429e-05\n",
            "Epoch 52/100\n",
            "162/162 [==============================] - 0s 1ms/step - loss: 8.2535e-05\n",
            "Epoch 53/100\n",
            "162/162 [==============================] - 0s 1ms/step - loss: 9.0898e-05\n",
            "Epoch 54/100\n",
            "162/162 [==============================] - 0s 1ms/step - loss: 9.4299e-05\n",
            "Epoch 55/100\n",
            "162/162 [==============================] - 0s 1ms/step - loss: 8.7779e-05\n",
            "Epoch 56/100\n",
            "162/162 [==============================] - 0s 1ms/step - loss: 8.6636e-05\n",
            "Epoch 57/100\n",
            "162/162 [==============================] - 0s 1ms/step - loss: 8.6125e-05\n",
            "Epoch 58/100\n",
            "162/162 [==============================] - 0s 1ms/step - loss: 9.1436e-05\n",
            "Epoch 59/100\n",
            "162/162 [==============================] - 0s 1ms/step - loss: 8.8091e-05\n",
            "Epoch 60/100\n",
            "162/162 [==============================] - 0s 1ms/step - loss: 8.1810e-05\n",
            "Epoch 61/100\n",
            "162/162 [==============================] - 0s 1ms/step - loss: 8.4661e-05\n",
            "Epoch 62/100\n",
            "162/162 [==============================] - 0s 1ms/step - loss: 8.9108e-05\n",
            "Epoch 63/100\n",
            "162/162 [==============================] - 0s 1ms/step - loss: 8.5813e-05\n",
            "Epoch 64/100\n",
            "162/162 [==============================] - 0s 1ms/step - loss: 8.3643e-05\n",
            "Epoch 65/100\n",
            "162/162 [==============================] - 0s 1ms/step - loss: 9.2700e-05\n",
            "Epoch 66/100\n",
            "162/162 [==============================] - 0s 1ms/step - loss: 8.8876e-05\n",
            "Epoch 67/100\n",
            "162/162 [==============================] - 0s 1ms/step - loss: 9.3566e-05\n",
            "Epoch 68/100\n",
            "162/162 [==============================] - 0s 1ms/step - loss: 8.8500e-05\n",
            "Epoch 69/100\n",
            "162/162 [==============================] - 0s 1ms/step - loss: 8.5901e-05\n",
            "Epoch 70/100\n",
            "162/162 [==============================] - 0s 1ms/step - loss: 9.0116e-05\n",
            "Epoch 71/100\n",
            "162/162 [==============================] - 0s 1ms/step - loss: 8.9064e-05\n",
            "Epoch 72/100\n",
            "162/162 [==============================] - 0s 1ms/step - loss: 8.5863e-05\n",
            "Epoch 73/100\n",
            "162/162 [==============================] - 0s 1ms/step - loss: 9.6069e-05\n",
            "Epoch 74/100\n",
            "162/162 [==============================] - 0s 1ms/step - loss: 9.7701e-05\n",
            "Epoch 75/100\n",
            "162/162 [==============================] - 0s 1ms/step - loss: 8.7336e-05\n",
            "Epoch 76/100\n",
            "162/162 [==============================] - 0s 1ms/step - loss: 8.6110e-05\n",
            "Epoch 77/100\n",
            "162/162 [==============================] - 0s 1ms/step - loss: 9.1042e-05\n",
            "Epoch 78/100\n",
            "162/162 [==============================] - 0s 1ms/step - loss: 9.0047e-05\n",
            "Epoch 79/100\n",
            "162/162 [==============================] - 0s 1ms/step - loss: 9.1769e-05\n",
            "Epoch 80/100\n",
            "162/162 [==============================] - 0s 1ms/step - loss: 9.1677e-05\n",
            "Epoch 81/100\n",
            "162/162 [==============================] - 0s 1ms/step - loss: 8.1880e-05\n",
            "Epoch 82/100\n",
            "162/162 [==============================] - 0s 1ms/step - loss: 8.0968e-05\n",
            "Epoch 83/100\n",
            "162/162 [==============================] - 0s 1ms/step - loss: 9.2939e-05\n",
            "Epoch 84/100\n",
            "162/162 [==============================] - 0s 1ms/step - loss: 8.6580e-05\n",
            "Epoch 85/100\n",
            "162/162 [==============================] - 0s 1ms/step - loss: 8.3300e-05\n",
            "Epoch 86/100\n",
            "162/162 [==============================] - 0s 1ms/step - loss: 8.7386e-05\n",
            "Epoch 87/100\n",
            "162/162 [==============================] - 0s 1ms/step - loss: 8.7966e-05\n",
            "Epoch 88/100\n",
            "162/162 [==============================] - 0s 1ms/step - loss: 8.3445e-05\n",
            "Epoch 89/100\n",
            "162/162 [==============================] - 0s 1ms/step - loss: 8.9170e-05\n",
            "Epoch 90/100\n",
            "162/162 [==============================] - 0s 1ms/step - loss: 9.2444e-05\n",
            "Epoch 91/100\n",
            "162/162 [==============================] - 0s 1ms/step - loss: 8.9279e-05\n",
            "Epoch 92/100\n",
            "162/162 [==============================] - 0s 1ms/step - loss: 9.5202e-05\n",
            "Epoch 93/100\n",
            "162/162 [==============================] - 0s 1ms/step - loss: 9.2305e-05\n",
            "Epoch 94/100\n",
            "162/162 [==============================] - 0s 1ms/step - loss: 8.8188e-05\n",
            "Epoch 95/100\n",
            "162/162 [==============================] - 0s 1ms/step - loss: 9.1423e-05\n",
            "Epoch 96/100\n",
            "162/162 [==============================] - 0s 1ms/step - loss: 1.0754e-04\n",
            "Epoch 97/100\n",
            "162/162 [==============================] - 0s 1ms/step - loss: 8.7558e-05\n",
            "Epoch 98/100\n",
            "162/162 [==============================] - 0s 1ms/step - loss: 9.1189e-05\n",
            "Epoch 99/100\n",
            "162/162 [==============================] - 0s 1ms/step - loss: 8.6995e-05\n",
            "Epoch 100/100\n",
            "162/162 [==============================] - 0s 1ms/step - loss: 9.3427e-05\n"
          ],
          "name": "stdout"
        },
        {
          "output_type": "execute_result",
          "data": {
            "text/plain": [
              "<tensorflow.python.keras.callbacks.History at 0x7fbe47e441d0>"
            ]
          },
          "metadata": {
            "tags": []
          },
          "execution_count": 23
        }
      ]
    },
    {
      "cell_type": "code",
      "metadata": {
        "id": "JZoBS7I_rl41",
        "colab": {
          "base_uri": "https://localhost:8080/"
        },
        "outputId": "6ec058d3-f3c2-4f99-f30a-eabd3968b873"
      },
      "source": [
        "# make predictions\n",
        "deaths_train_predict = model.predict(deaths_train_X)\n",
        "deaths_test_predict = model.predict(deaths_test_X)\n",
        "\n",
        "# invert predictions\n",
        "deaths_train_predict = scaler.inverse_transform(deaths_train_predict)\n",
        "deaths_train_Y = scaler.inverse_transform([deaths_train_Y])\n",
        "deaths_test_predict = scaler.inverse_transform(deaths_test_predict)\n",
        "deaths_test_Y = scaler.inverse_transform([deaths_test_Y])\n",
        "\n",
        "# calculate root mean squared error\n",
        "trainScore = math.sqrt(\n",
        "    mean_squared_error(deaths_train_Y[0], deaths_train_predict[:, 0])\n",
        ")\n",
        "print(\"Train Score: %.2f RMSE\" % (trainScore))\n",
        "testScore = math.sqrt(mean_squared_error(deaths_test_Y[0], deaths_test_predict[:, 0]))\n",
        "print(\"Test Score: %.2f RMSE\" % (testScore))"
      ],
      "execution_count": null,
      "outputs": [
        {
          "output_type": "stream",
          "text": [
            "Train Score: 6711.43 RMSE\n",
            "Test Score: 57279.40 RMSE\n"
          ],
          "name": "stdout"
        }
      ]
    },
    {
      "cell_type": "code",
      "metadata": {
        "id": "V3mA5a6Drl45",
        "colab": {
          "base_uri": "https://localhost:8080/",
          "height": 276
        },
        "outputId": "1c09484c-8096-4896-987f-6b107b2441b1"
      },
      "source": [
        "# shift train predictions for plotting\n",
        "trainPredictPlot = np.empty_like(deaths_world_df[[\"Deaths\"]])\n",
        "trainPredictPlot[:, :] = np.nan\n",
        "trainPredictPlot[\n",
        "    look_back : len(deaths_train_predict) + look_back, :\n",
        "] = deaths_train_predict\n",
        "\n",
        "# shift test predictions for plotting\n",
        "testPredictPlot = np.empty_like(deaths_world_df[[\"Deaths\"]])\n",
        "testPredictPlot[:, :] = np.nan\n",
        "testPredictPlot[\n",
        "    len(deaths_train_predict)\n",
        "    + (look_back * 2)\n",
        "    + 1 : len(deaths_world_df[[\"Deaths\"]])\n",
        "    - 1,\n",
        "    :,\n",
        "] = deaths_test_predict\n",
        "\n",
        "# plot baseline and predictions\n",
        "plt.plot(scaler.inverse_transform(deaths_world_df[[\"Deaths\"]]))\n",
        "plt.plot(trainPredictPlot)\n",
        "plt.plot(testPredictPlot)\n",
        "plt.show()"
      ],
      "execution_count": null,
      "outputs": [
        {
          "output_type": "display_data",
          "data": {
            "image/png": "[encoded data removed]",
            "text/plain": [
              "<Figure size 432x288 with 1 Axes>"
            ]
          },
          "metadata": {
            "tags": [],
            "needs_background": "light"
          }
        }
      ]
    },
    {
      "cell_type": "markdown",
      "metadata": {
        "id": "dXI4JpAjrl48"
      },
      "source": [
        "## ARIMA\n",
        "\n",
        "### Confirmed"
      ]
    },
    {
      "cell_type": "code",
      "metadata": {
        "id": "y_NgT5a2rl48",
        "colab": {
          "base_uri": "https://localhost:8080/",
          "height": 283
        },
        "outputId": "c0be90c1-1eba-49b2-e708-3b394c80aae5"
      },
      "source": [
        "X = confirmed_world_df[[\"Confirmed\"]].values\n",
        "\n",
        "autocorrelation_plot(X)\n",
        "plt.show()"
      ],
      "execution_count": null,
      "outputs": [
        {
          "output_type": "display_data",
          "data": {
            "image/png": "[encoded data removed]",
            "text/plain": [
              "<Figure size 432x288 with 1 Axes>"
            ]
          },
          "metadata": {
            "tags": [],
            "needs_background": "light"
          }
        }
      ]
    },
    {
      "cell_type": "code",
      "metadata": {
        "id": "ud2Cm-Eurl5A",
        "colab": {
          "base_uri": "https://localhost:8080/",
          "height": 1000
        },
        "outputId": "10fe918b-a359-491c-d36a-efdf050afb3c"
      },
      "source": [
        "# fit model\n",
        "model = ARIMA(X, order=(5, 1, 0))\n",
        "model_fit = model.fit(disp=0)\n",
        "print(model_fit.summary())\n",
        "# plot residual errors\n",
        "residuals = pd.DataFrame(model_fit.resid)\n",
        "residuals.plot()\n",
        "plt.show()\n",
        "residuals.plot(kind=\"kde\")\n",
        "plt.show()\n",
        "print(residuals.describe())"
      ],
      "execution_count": null,
      "outputs": [
        {
          "output_type": "stream",
          "text": [
            "                             ARIMA Model Results                              \n",
            "==============================================================================\n",
            "Dep. Variable:                    D.y   No. Observations:                  245\n",
            "Model:                 ARIMA(5, 1, 0)   Log Likelihood               -3087.664\n",
            "Method:                       css-mle   S.D. of innovations          71780.117\n",
            "Date:                Thu, 05 Nov 2020   AIC                           6189.328\n",
            "Time:                        05:42:46   BIC                           6213.837\n",
            "Sample:                             1   HQIC                          6199.198\n",
            "                                                                              \n",
            "==============================================================================\n",
            "                 coef    std err          z      P>|z|      [0.025      0.975]\n",
            "------------------------------------------------------------------------------\n",
            "const       9.698e+04   3.16e+04      3.065      0.002     3.5e+04    1.59e+05\n",
            "ar.L1.D.y      0.2762      0.063      4.376      0.000       0.152       0.400\n",
            "ar.L2.D.y      0.1250      0.064      1.958      0.051   -9.95e-05       0.250\n",
            "ar.L3.D.y      0.1103      0.064      1.722      0.086      -0.015       0.236\n",
            "ar.L4.D.y      0.2184      0.064      3.422      0.001       0.093       0.343\n",
            "ar.L5.D.y      0.1347      0.063      2.137      0.034       0.011       0.258\n",
            "                                    Roots                                    \n",
            "=============================================================================\n",
            "                  Real          Imaginary           Modulus         Frequency\n",
            "-----------------------------------------------------------------------------\n",
            "AR.1            1.0526           -0.0000j            1.0526           -0.0000\n",
            "AR.2            0.2848           -1.4085j            1.4370           -0.2182\n",
            "AR.3            0.2848           +1.4085j            1.4370            0.2182\n",
            "AR.4           -1.6217           -0.8863j            1.8481           -0.4204\n",
            "AR.5           -1.6217           +0.8863j            1.8481            0.4204\n",
            "-----------------------------------------------------------------------------\n"
          ],
          "name": "stdout"
        },
        {
          "output_type": "display_data",
          "data": {
            "image/png": "[encoded data removed]",
            "text/plain": [
              "<Figure size 432x288 with 1 Axes>"
            ]
          },
          "metadata": {
            "tags": [],
            "needs_background": "light"
          }
        },
        {
          "output_type": "display_data",
          "data": {
            "image/png": "[encoded data removed]",
            "text/plain": [
              "<Figure size 432x288 with 1 Axes>"
            ]
          },
          "metadata": {
            "tags": [],
            "needs_background": "light"
          }
        },
        {
          "output_type": "stream",
          "text": [
            "                   0\n",
            "count     245.000000\n",
            "mean     1360.556706\n",
            "std     72060.819472\n",
            "min   -178248.470059\n",
            "25%    -13881.054620\n",
            "50%    -10440.471655\n",
            "75%     12047.706942\n",
            "max    623317.685294\n"
          ],
          "name": "stdout"
        }
      ]
    },
    {
      "cell_type": "code",
      "metadata": {
        "scrolled": true,
        "id": "couXUyRnrl5D",
        "colab": {
          "base_uri": "https://localhost:8080/"
        },
        "outputId": "609be8ae-d25e-4052-f123-4f05f2dd9a90"
      },
      "source": [
        "size = int(len(X) * 0.66)\n",
        "train, test = X[0:size], X[size : len(X)]\n",
        "history = [x for x in train]\n",
        "predictions = list()\n",
        "for t in range(len(test)):\n",
        "    model = ARIMA(history, order=(5, 1, 0))\n",
        "    model_fit = model.fit(disp=0)\n",
        "    output = model_fit.forecast()\n",
        "    yhat = output[0]\n",
        "    predictions.append(yhat)\n",
        "    obs = test[t]\n",
        "    history.append(obs)\n",
        "error = mean_squared_error(test, predictions, squared=False)\n",
        "print(\"Test RMSE: %.3f\" % error)"
      ],
      "execution_count": null,
      "outputs": [
        {
          "output_type": "stream",
          "text": [
            "Test RMSE: 44780.589\n"
          ],
          "name": "stdout"
        }
      ]
    },
    {
      "cell_type": "code",
      "metadata": {
        "id": "ywLYNC05rl5G",
        "colab": {
          "base_uri": "https://localhost:8080/",
          "height": 276
        },
        "outputId": "0e5582d3-d50b-473b-eee7-b05a36dbabe1"
      },
      "source": [
        "# plot\n",
        "plt.plot(test)\n",
        "plt.plot(predictions, color=\"red\")\n",
        "plt.show()"
      ],
      "execution_count": null,
      "outputs": [
        {
          "output_type": "display_data",
          "data": {
            "image/png": "[encoded data removed]",
            "text/plain": [
              "<Figure size 432x288 with 1 Axes>"
            ]
          },
          "metadata": {
            "tags": [],
            "needs_background": "light"
          }
        }
      ]
    },
    {
      "cell_type": "markdown",
      "metadata": {
        "id": "bbKhFS5frl5J"
      },
      "source": [
        "### Recovered"
      ]
    },
    {
      "cell_type": "code",
      "metadata": {
        "id": "EdcAE2Rprl5K",
        "colab": {
          "base_uri": "https://localhost:8080/",
          "height": 283
        },
        "outputId": "c628767d-f3d8-47be-85b7-27cb58392b8e"
      },
      "source": [
        "X = recovered_world_df[[\"Recovered\"]].values\n",
        "\n",
        "autocorrelation_plot(X)\n",
        "plt.show()"
      ],
      "execution_count": null,
      "outputs": [
        {
          "output_type": "display_data",
          "data": {
            "image/png": "[encoded data removed]",
            "text/plain": [
              "<Figure size 432x288 with 1 Axes>"
            ]
          },
          "metadata": {
            "tags": [],
            "needs_background": "light"
          }
        }
      ]
    },
    {
      "cell_type": "code",
      "metadata": {
        "id": "lgoQuCDGrl5N",
        "colab": {
          "base_uri": "https://localhost:8080/",
          "height": 1000
        },
        "outputId": "b1a5ad2e-c2b5-4de0-ceda-7c4a5790f6ef"
      },
      "source": [
        "# fit model\n",
        "model = ARIMA(X, order=(5, 1, 0))\n",
        "model_fit = model.fit(disp=0)\n",
        "print(model_fit.summary())\n",
        "# plot residual errors\n",
        "residuals = pd.DataFrame(model_fit.resid)\n",
        "residuals.plot()\n",
        "plt.show()\n",
        "residuals.plot(kind=\"kde\")\n",
        "plt.show()\n",
        "print(residuals.describe())"
      ],
      "execution_count": null,
      "outputs": [
        {
          "output_type": "stream",
          "text": [
            "                             ARIMA Model Results                              \n",
            "==============================================================================\n",
            "Dep. Variable:                    D.y   No. Observations:                  245\n",
            "Model:                 ARIMA(5, 1, 0)   Log Likelihood               -2955.226\n",
            "Method:                       css-mle   S.D. of innovations          41731.813\n",
            "Date:                Thu, 05 Nov 2020   AIC                           5924.452\n",
            "Time:                        05:43:04   BIC                           5948.960\n",
            "Sample:                             1   HQIC                          5934.321\n",
            "                                                                              \n",
            "==============================================================================\n",
            "                 coef    std err          z      P>|z|      [0.025      0.975]\n",
            "------------------------------------------------------------------------------\n",
            "const       6.483e+04   3.99e+04      1.626      0.105   -1.33e+04    1.43e+05\n",
            "ar.L1.D.y      0.1355      0.063      2.159      0.032       0.013       0.258\n",
            "ar.L2.D.y      0.1924      0.062      3.123      0.002       0.072       0.313\n",
            "ar.L3.D.y      0.2145      0.061      3.495      0.001       0.094       0.335\n",
            "ar.L4.D.y      0.2159      0.062      3.500      0.001       0.095       0.337\n",
            "ar.L5.D.y      0.1852      0.063      2.956      0.003       0.062       0.308\n",
            "                                    Roots                                    \n",
            "=============================================================================\n",
            "                  Real          Imaginary           Modulus         Frequency\n",
            "-----------------------------------------------------------------------------\n",
            "AR.1            1.0186           -0.0000j            1.0186           -0.0000\n",
            "AR.2            0.2330           -1.4407j            1.4594           -0.2245\n",
            "AR.3            0.2330           +1.4407j            1.4594            0.2245\n",
            "AR.4           -1.3251           -0.8558j            1.5774           -0.4087\n",
            "AR.5           -1.3251           +0.8558j            1.5774            0.4087\n",
            "-----------------------------------------------------------------------------\n"
          ],
          "name": "stdout"
        },
        {
          "output_type": "display_data",
          "data": {
            "image/png": "[encoded data removed]",
            "text/plain": [
              "<Figure size 432x288 with 1 Axes>"
            ]
          },
          "metadata": {
            "tags": [],
            "needs_background": "light"
          }
        },
        {
          "output_type": "display_data",
          "data": {
            "image/png": "[encoded data removed]",
            "text/plain": [
              "<Figure size 432x288 with 1 Axes>"
            ]
          },
          "metadata": {
            "tags": [],
            "needs_background": "light"
          }
        },
        {
          "output_type": "stream",
          "text": [
            "                   0\n",
            "count     245.000000\n",
            "mean     1891.235715\n",
            "std     41927.589450\n",
            "min   -128529.350403\n",
            "25%     -6272.328999\n",
            "50%     -3553.284727\n",
            "75%      7306.773148\n",
            "max    400021.089051\n"
          ],
          "name": "stdout"
        }
      ]
    },
    {
      "cell_type": "code",
      "metadata": {
        "scrolled": true,
        "id": "0ohx1tlqrl5Q",
        "colab": {
          "base_uri": "https://localhost:8080/"
        },
        "outputId": "b3ff8d0d-dbe6-44a7-85dd-35951d2aff03"
      },
      "source": [
        "size = int(len(X) * 0.66)\n",
        "train, test = X[0:size], X[size : len(X)]\n",
        "history = [x for x in train]\n",
        "predictions = list()\n",
        "for t in range(len(test)):\n",
        "    model = ARIMA(history, order=(5, 1, 0))\n",
        "    model_fit = model.fit(disp=0)\n",
        "    output = model_fit.forecast()\n",
        "    yhat = output[0]\n",
        "    predictions.append(yhat)\n",
        "    obs = test[t]\n",
        "    history.append(obs)\n",
        "error = mean_squared_error(test, predictions, squared=False)\n",
        "print(\"Test Root MSE: %.3f\" % error)"
      ],
      "execution_count": null,
      "outputs": [
        {
          "output_type": "stream",
          "text": [
            "Test Root MSE: 37252.965\n"
          ],
          "name": "stdout"
        }
      ]
    },
    {
      "cell_type": "code",
      "metadata": {
        "id": "GwbNGQgRrl5T",
        "colab": {
          "base_uri": "https://localhost:8080/",
          "height": 276
        },
        "outputId": "59794cc4-a5e4-48e8-d31c-5aae22308b8a"
      },
      "source": [
        "# plot\n",
        "plt.plot(test)\n",
        "plt.plot(predictions, color=\"red\")\n",
        "plt.show()"
      ],
      "execution_count": null,
      "outputs": [
        {
          "output_type": "display_data",
          "data": {
            "image/png": "[encoded data removed]",
            "text/plain": [
              "<Figure size 432x288 with 1 Axes>"
            ]
          },
          "metadata": {
            "tags": [],
            "needs_background": "light"
          }
        }
      ]
    },
    {
      "cell_type": "markdown",
      "metadata": {
        "id": "WVv2h-Knrl5W"
      },
      "source": [
        "### Deaths"
      ]
    },
    {
      "cell_type": "code",
      "metadata": {
        "id": "Xb8zkpo6rl5W",
        "colab": {
          "base_uri": "https://localhost:8080/",
          "height": 283
        },
        "outputId": "6dab9cc3-a831-418c-e9ff-3bc020396e8d"
      },
      "source": [
        "X = deaths_world_df[[\"Deaths\"]].values\n",
        "\n",
        "autocorrelation_plot(X)\n",
        "plt.show()"
      ],
      "execution_count": null,
      "outputs": [
        {
          "output_type": "display_data",
          "data": {
            "image/png": "[encoded data removed]",
            "text/plain": [
              "<Figure size 432x288 with 1 Axes>"
            ]
          },
          "metadata": {
            "tags": [],
            "needs_background": "light"
          }
        }
      ]
    },
    {
      "cell_type": "code",
      "metadata": {
        "id": "9NzdQAb8rl5Z",
        "colab": {
          "base_uri": "https://localhost:8080/",
          "height": 1000
        },
        "outputId": "de3f7888-b5a6-44dd-f6ff-26d106372807"
      },
      "source": [
        "# fit model\n",
        "model = ARIMA(X, order=(5, 1, 0))\n",
        "model_fit = model.fit(disp=0)\n",
        "print(model_fit.summary())\n",
        "# plot residual errors\n",
        "residuals = pd.DataFrame(model_fit.resid)\n",
        "residuals.plot()\n",
        "plt.show()\n",
        "residuals.plot(kind=\"kde\")\n",
        "plt.show()\n",
        "print(residuals.describe())"
      ],
      "execution_count": null,
      "outputs": [
        {
          "output_type": "stream",
          "text": [
            "                             ARIMA Model Results                              \n",
            "==============================================================================\n",
            "Dep. Variable:                    D.y   No. Observations:                  245\n",
            "Model:                 ARIMA(5, 1, 0)   Log Likelihood               -2462.193\n",
            "Method:                       css-mle   S.D. of innovations           5601.140\n",
            "Date:                Thu, 05 Nov 2020   AIC                           4938.387\n",
            "Time:                        05:43:23   BIC                           4962.895\n",
            "Sample:                             1   HQIC                          4948.256\n",
            "                                                                              \n",
            "==============================================================================\n",
            "                 coef    std err          z      P>|z|      [0.025      0.975]\n",
            "------------------------------------------------------------------------------\n",
            "const       3061.5227    492.906      6.211      0.000    2095.445    4027.601\n",
            "ar.L1.D.y      0.1316      0.064      2.068      0.040       0.007       0.256\n",
            "ar.L2.D.y      0.0460      0.064      0.718      0.473      -0.080       0.172\n",
            "ar.L3.D.y      0.0147      0.064      0.230      0.818      -0.111       0.140\n",
            "ar.L4.D.y      0.0201      0.064      0.314      0.753      -0.105       0.145\n",
            "ar.L5.D.y      0.0643      0.063      1.017      0.310      -0.060       0.188\n",
            "                                    Roots                                    \n",
            "=============================================================================\n",
            "                  Real          Imaginary           Modulus         Frequency\n",
            "-----------------------------------------------------------------------------\n",
            "AR.1            1.5255           -0.0000j            1.5255           -0.0000\n",
            "AR.2            0.5656           -1.6571j            1.7510           -0.1977\n",
            "AR.3            0.5656           +1.6571j            1.7510            0.1977\n",
            "AR.4           -1.4845           -1.0589j            1.8235           -0.4014\n",
            "AR.5           -1.4845           +1.0589j            1.8235            0.4014\n",
            "-----------------------------------------------------------------------------\n"
          ],
          "name": "stdout"
        },
        {
          "output_type": "display_data",
          "data": {
            "image/png": "[encoded data removed]",
            "text/plain": [
              "<Figure size 432x288 with 1 Axes>"
            ]
          },
          "metadata": {
            "tags": [],
            "needs_background": "light"
          }
        },
        {
          "output_type": "display_data",
          "data": {
            "image/png": "[encoded data removed]",
            "text/plain": [
              "<Figure size 432x288 with 1 Axes>"
            ]
          },
          "metadata": {
            "tags": [],
            "needs_background": "light"
          }
        },
        {
          "output_type": "stream",
          "text": [
            "                  0\n",
            "count    245.000000\n",
            "mean       3.218396\n",
            "std     5612.752328\n",
            "min    -9313.746258\n",
            "25%    -2124.150469\n",
            "50%     -674.423460\n",
            "75%      705.028732\n",
            "max    65825.824153\n"
          ],
          "name": "stdout"
        }
      ]
    },
    {
      "cell_type": "code",
      "metadata": {
        "scrolled": true,
        "id": "8j_wVWI_rl5c",
        "colab": {
          "base_uri": "https://localhost:8080/"
        },
        "outputId": "b99b082f-85c6-4afb-9913-2bc1e14b9763"
      },
      "source": [
        "size = int(len(X) * 0.66)\n",
        "train, test = X[0:size], X[size : len(X)]\n",
        "history = [x for x in train]\n",
        "predictions = list()\n",
        "for t in range(len(test)):\n",
        "    model = ARIMA(history, order=(5, 1, 0))\n",
        "    model_fit = model.fit(disp=0)\n",
        "    output = model_fit.forecast()\n",
        "    yhat = output[0]\n",
        "    predictions.append(yhat)\n",
        "    obs = test[t]\n",
        "    history.append(obs)\n",
        "error = mean_squared_error(test, predictions, squared=False)\n",
        "print(\"Test Root MSE: %.3f\" % error)"
      ],
      "execution_count": null,
      "outputs": [
        {
          "output_type": "stream",
          "text": [
            "Test Root MSE: 1772.411\n"
          ],
          "name": "stdout"
        }
      ]
    },
    {
      "cell_type": "code",
      "metadata": {
        "id": "P_GMq7x8rl5f",
        "colab": {
          "base_uri": "https://localhost:8080/",
          "height": 265
        },
        "outputId": "57c981d9-263c-4630-bd40-164d7f525793"
      },
      "source": [
        "# plot\n",
        "plt.plot(test)\n",
        "plt.plot(predictions, color=\"red\")\n",
        "plt.show()"
      ],
      "execution_count": null,
      "outputs": [
        {
          "output_type": "display_data",
          "data": {
            "image/png": "[encoded data removed]",
            "text/plain": [
              "<Figure size 432x288 with 1 Axes>"
            ]
          },
          "metadata": {
            "tags": [],
            "needs_background": "light"
          }
        }
      ]
    },
    {
      "cell_type": "markdown",
      "metadata": {
        "id": "qpgSpzNc4-_g"
      },
      "source": [
        "RMSEs:\n",
        "\n",
        "\n",
        "*   Prophet: 937359.72\n",
        "*   LSTM: 79527.91\n",
        "*   ARIMA: 27,935.321\n",
        "\n",
        "\n",
        "\n"
      ]
    },
    {
      "cell_type": "code",
      "metadata": {
        "id": "jvd5AzlF9IVa"
      },
      "source": [
        ""
      ],
      "execution_count": null,
      "outputs": []
    }
  ]
}